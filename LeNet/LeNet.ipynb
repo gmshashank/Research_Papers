{
  "nbformat": 4,
  "nbformat_minor": 0,
  "metadata": {
    "colab": {
      "name": "LeNet.ipynb",
      "provenance": [],
      "collapsed_sections": []
    },
    "kernelspec": {
      "name": "python3",
      "display_name": "Python 3"
    }
  },
  "cells": [
    {
      "cell_type": "code",
      "metadata": {
        "id": "j89OyUY7yuGz"
      },
      "source": [
        "import torch\n",
        "import torch.nn as nn\n",
        "import torch.nn.functional as F"
      ],
      "execution_count": 1,
      "outputs": []
    },
    {
      "cell_type": "code",
      "metadata": {
        "id": "ZmDskFm75fg8"
      },
      "source": [
        "from torchsummary import summary"
      ],
      "execution_count": 2,
      "outputs": []
    },
    {
      "cell_type": "code",
      "metadata": {
        "id": "p4Rc8Q98y5hL"
      },
      "source": [
        "class LeNet(nn.Module):\n",
        "  def __init__(self):\n",
        "    super(LeNet,self).__init__()\n",
        "    self.conv1=nn.Conv2d(in_channels=1,out_channels=6,kernel_size=(5,5),stride=(1,1),padding=(0,0))\n",
        "    self.conv2=nn.Conv2d(in_channels=6,out_channels=16,kernel_size=(5,5),stride=(1,1),padding=(0,0))\n",
        "    self.fc1=nn.Linear(in_features=16*5*5,out_features=120)\n",
        "    self.fc2=nn.Linear(in_features=120,out_features=84)\n",
        "    self.fc3=nn.Linear(in_features=84,out_features=10)\n",
        "  def forward(self,input):\n",
        "    output=F.relu(self.conv1(input))\n",
        "    output=F.max_pool2d(output,kernel_size=(2,2),stride=(2,2))\n",
        "    output=F.relu(self.conv2(output))\n",
        "    output=F.max_pool2d(output,kernel_size=(2,2),stride=(2,2))\n",
        "    output=output.flatten(start_dim=1)\n",
        "    output=F.relu(self.fc1(output))\n",
        "    output=F.relu(self.fc2(output))\n",
        "    output=self.fc3(output)\n",
        "    return output"
      ],
      "execution_count": 3,
      "outputs": []
    },
    {
      "cell_type": "code",
      "metadata": {
        "id": "Ry2PZfmZ5yZo",
        "outputId": "9ce8b76f-18ee-4aad-84cb-df9aa3a8994b",
        "colab": {
          "base_uri": "https://localhost:8080/"
        }
      },
      "source": [
        "model = LeNet()\n",
        "print(model)\n",
        "summary(model, (1,32,32))"
      ],
      "execution_count": 6,
      "outputs": [
        {
          "output_type": "stream",
          "text": [
            "LeNet(\n",
            "  (conv1): Conv2d(1, 6, kernel_size=(5, 5), stride=(1, 1))\n",
            "  (conv2): Conv2d(6, 16, kernel_size=(5, 5), stride=(1, 1))\n",
            "  (fc1): Linear(in_features=400, out_features=120, bias=True)\n",
            "  (fc2): Linear(in_features=120, out_features=84, bias=True)\n",
            "  (fc3): Linear(in_features=84, out_features=10, bias=True)\n",
            ")\n",
            "----------------------------------------------------------------\n",
            "        Layer (type)               Output Shape         Param #\n",
            "================================================================\n",
            "            Conv2d-1            [-1, 6, 28, 28]             156\n",
            "            Conv2d-2           [-1, 16, 10, 10]           2,416\n",
            "            Linear-3                  [-1, 120]          48,120\n",
            "            Linear-4                   [-1, 84]          10,164\n",
            "            Linear-5                   [-1, 10]             850\n",
            "================================================================\n",
            "Total params: 61,706\n",
            "Trainable params: 61,706\n",
            "Non-trainable params: 0\n",
            "----------------------------------------------------------------\n",
            "Input size (MB): 0.00\n",
            "Forward/backward pass size (MB): 0.05\n",
            "Params size (MB): 0.24\n",
            "Estimated Total Size (MB): 0.29\n",
            "----------------------------------------------------------------\n"
          ],
          "name": "stdout"
        }
      ]
    },
    {
      "cell_type": "code",
      "metadata": {
        "id": "duu-UUEkh3h2"
      },
      "source": [
        "def test():\n",
        "  model = LeNet()\n",
        "  x = torch.randn(64,1,32,32)\n",
        "  output = model(x)\n",
        "  print(\"output.shape : \",output.size())"
      ],
      "execution_count": 14,
      "outputs": []
    },
    {
      "cell_type": "code",
      "metadata": {
        "id": "oLSTCAeTjL1T",
        "outputId": "92b95b44-f0ef-494a-8cbe-44b78be4d884",
        "colab": {
          "base_uri": "https://localhost:8080/"
        }
      },
      "source": [
        "test()"
      ],
      "execution_count": 15,
      "outputs": [
        {
          "output_type": "stream",
          "text": [
            "output.shape :  torch.Size([64, 10])\n"
          ],
          "name": "stdout"
        }
      ]
    },
    {
      "cell_type": "code",
      "metadata": {
        "id": "aLE-nd73jeQu"
      },
      "source": [
        ""
      ],
      "execution_count": null,
      "outputs": []
    }
  ]
}